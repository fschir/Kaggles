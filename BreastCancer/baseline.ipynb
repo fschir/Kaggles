{
 "cells": [
  {
   "cell_type": "code",
   "execution_count": 278,
   "metadata": {
    "collapsed": true
   },
   "outputs": [],
   "source": [
    "import pandas as pd\n",
    "import numpy as np\n",
    "import torch\n",
    "from torch import tensor, Tensor, nn, optim\n",
    "from torch.utils.data import Dataset, DataLoader\n",
    "from torch import functional as F\n",
    "import matplotlib.pyplot as plt\n",
    "import torchvision as tv\n",
    "from random import choice\n",
    "from pathlib import Path\n",
    "\n",
    "from sklearn.preprocessing import MinMaxScaler\n",
    "\n",
    "import warnings"
   ]
  },
  {
   "cell_type": "code",
   "execution_count": 4,
   "outputs": [],
   "source": [
    "datapath = Path('data')\n",
    "img_folder = datapath/'256'\n",
    "train_csv = datapath/'train.csv'"
   ],
   "metadata": {
    "collapsed": false
   }
  },
  {
   "cell_type": "code",
   "execution_count": 23,
   "outputs": [],
   "source": [
    "full_df = pd.read_csv(train_csv)\n",
    "full_df['path'] = img_folder/(full_df['patient_id'].astype(str)+ '_' +full_df['image_id'].astype(str)+'.png')"
   ],
   "metadata": {
    "collapsed": false
   }
  },
  {
   "cell_type": "code",
   "execution_count": 38,
   "outputs": [
    {
     "data": {
      "text/plain": "   site_id  patient_id   image_id laterality view   age  cancer  biopsy  \\\n0        2       10006  462822612          L   CC  61.0       0       0   \n\n   invasive  BIRADS  implant density  machine_id  difficult_negative_case  \\\n0         0     NaN        0     NaN          29                    False   \n\n                           path  \n0  data\\256\\10006_462822612.png  ",
      "text/html": "<div>\n<style scoped>\n    .dataframe tbody tr th:only-of-type {\n        vertical-align: middle;\n    }\n\n    .dataframe tbody tr th {\n        vertical-align: top;\n    }\n\n    .dataframe thead th {\n        text-align: right;\n    }\n</style>\n<table border=\"1\" class=\"dataframe\">\n  <thead>\n    <tr style=\"text-align: right;\">\n      <th></th>\n      <th>site_id</th>\n      <th>patient_id</th>\n      <th>image_id</th>\n      <th>laterality</th>\n      <th>view</th>\n      <th>age</th>\n      <th>cancer</th>\n      <th>biopsy</th>\n      <th>invasive</th>\n      <th>BIRADS</th>\n      <th>implant</th>\n      <th>density</th>\n      <th>machine_id</th>\n      <th>difficult_negative_case</th>\n      <th>path</th>\n    </tr>\n  </thead>\n  <tbody>\n    <tr>\n      <th>0</th>\n      <td>2</td>\n      <td>10006</td>\n      <td>462822612</td>\n      <td>L</td>\n      <td>CC</td>\n      <td>61.0</td>\n      <td>0</td>\n      <td>0</td>\n      <td>0</td>\n      <td>NaN</td>\n      <td>0</td>\n      <td>NaN</td>\n      <td>29</td>\n      <td>False</td>\n      <td>data\\256\\10006_462822612.png</td>\n    </tr>\n  </tbody>\n</table>\n</div>"
     },
     "execution_count": 38,
     "metadata": {},
     "output_type": "execute_result"
    }
   ],
   "source": [
    "full_df.head(1)"
   ],
   "metadata": {
    "collapsed": false
   }
  },
  {
   "cell_type": "code",
   "execution_count": null,
   "outputs": [],
   "source": [
    "full_df['cancer'].sum()"
   ],
   "metadata": {
    "collapsed": false,
    "pycharm": {
     "is_executing": true
    }
   }
  },
  {
   "cell_type": "code",
   "execution_count": 304,
   "outputs": [],
   "source": [
    "class BCancerDataset(Dataset):\n",
    "    def __init__(self, annot_df: pd.DataFrame, slc: slice, scaler: callable): # Maybe transforms here ?\n",
    "        super(BCancerDataset, self).__init__()\n",
    "        self.scaler = scaler\n",
    "\n",
    "        # prep annotations\n",
    "        self.annotations = annot_df.iloc[slc]\n",
    "        self.annotations['path'] = img_folder/(full_df['patient_id'].astype(str)+ '_' +full_df['image_id'].astype(str)+'.png')\n",
    "\n",
    "\n",
    "    def __len__(self) -> int:\n",
    "        return len(self.annotations)\n",
    "\n",
    "    def __getitem__(self, item) -> (Tensor, Tensor):\n",
    "        image_data = tensor(\n",
    "            self.scaler.transform(tv.io.read_image(str(self.annotations['path'].iloc[item]), tv.io.ImageReadMode.GRAY).reshape(-1, 1)), dtype=torch.float32)\n",
    "        label = (torch.tensor(self.annotations['cancer'].iloc[item])).type(torch.LongTensor)\n",
    "        return image_data, label\n",
    "\n",
    "\n",
    "def gen_ds(split: float, annot_f: Path, bs=128) -> (Dataset, Dataset):\n",
    "    if split > 1:\n",
    "        raise Exception(' > 1')\n",
    "    f_data = np.arange(0, 255, 1).reshape(-1, 1)\n",
    "    scaler = MinMaxScaler()\n",
    "    scaler.fit(f_data)\n",
    "\n",
    "    bs = bs\n",
    "    annotdf = pd.read_csv(annot_f)\n",
    "    len_df = len(annotdf)\n",
    "    split_pt = int(len_df * split)\n",
    "    print(split_pt)\n",
    "    train_dl = DataLoader(BCancerDataset(annotdf, slice(0, split_pt), scaler), batch_size=bs, shuffle=True)\n",
    "    val_dl = DataLoader(BCancerDataset(annotdf, slice(split_pt, len_df), scaler), batch_size=bs, shuffle=True)\n",
    "    return train_dl, val_dl\n"
   ],
   "metadata": {
    "collapsed": false
   }
  },
  {
   "cell_type": "code",
   "execution_count": 305,
   "outputs": [
    {
     "name": "stdout",
     "output_type": "stream",
     "text": [
      "43764\n"
     ]
    }
   ],
   "source": [
    "with warnings.catch_warnings():\n",
    "    warnings.filterwarnings(action='ignore')\n",
    "    train_dl, val_ds = gen_ds(0.8, train_csv)"
   ],
   "metadata": {
    "collapsed": false
   }
  },
  {
   "cell_type": "code",
   "execution_count": 311,
   "outputs": [
    {
     "data": {
      "text/plain": "torch.Size([65536, 1])"
     },
     "execution_count": 311,
     "metadata": {},
     "output_type": "execute_result"
    }
   ],
   "source": [
    "train_dl.dataset[0][0].shape"
   ],
   "metadata": {
    "collapsed": false
   }
  },
  {
   "cell_type": "code",
   "execution_count": 307,
   "outputs": [],
   "source": [
    "class CancerNN(nn.Module):\n",
    "    def __init__(self, in_s: int, out_s:int):\n",
    "        super(CancerNN, self).__init__()\n",
    "        self.layers = nn.ModuleList([\n",
    "            nn.Linear(in_s, 512),\n",
    "            nn.SELU(),\n",
    "            nn.Linear(512, 256),\n",
    "            nn.SELU(),\n",
    "            nn.Linear(256, out_s)\n",
    "        ])\n",
    "\n",
    "    def __call__(self, x):\n",
    "        for l in self.layers:\n",
    "            x = l(x)\n",
    "        return x"
   ],
   "metadata": {
    "collapsed": false
   }
  },
  {
   "cell_type": "code",
   "execution_count": 321,
   "outputs": [],
   "source": [
    "model = CancerNN((256*256), 2)\n",
    "loss_fn = torch.functional.F.cross_entropy\n",
    "opt = optim.SGD(model.parameters(), 0.2)"
   ],
   "metadata": {
    "collapsed": false
   }
  },
  {
   "cell_type": "code",
   "execution_count": null,
   "outputs": [],
   "source": [
    "for e in range(0, 10):\n",
    "    for xb,yb in train_dl:\n",
    "        preds = model(xb.reshape(128, 65536))\n",
    "        loss = loss_fn(preds, yb)\n",
    "        loss.backward()\n",
    "        opt.step()\n",
    "        opt.zero_grad()\n",
    "    print(loss)\n",
    "\n"
   ],
   "metadata": {
    "collapsed": false,
    "pycharm": {
     "is_executing": true
    }
   }
  }
 ],
 "metadata": {
  "kernelspec": {
   "display_name": "Python 3",
   "language": "python",
   "name": "python3"
  },
  "language_info": {
   "codemirror_mode": {
    "name": "ipython",
    "version": 2
   },
   "file_extension": ".py",
   "mimetype": "text/x-python",
   "name": "python",
   "nbconvert_exporter": "python",
   "pygments_lexer": "ipython2",
   "version": "2.7.6"
  }
 },
 "nbformat": 4,
 "nbformat_minor": 0
}
